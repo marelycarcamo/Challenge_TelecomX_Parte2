{
  "nbformat": 4,
  "nbformat_minor": 0,
  "metadata": {
    "colab": {
      "provenance": [],
      "mount_file_id": "https://github.com/marelycarcamo/Challenge_TelecomX_Parte2/blob/main/Challenge_TelecomX_Parte2.ipynb",
      "authorship_tag": "ABX9TyNbJspBYdl6p1ZhmaLlDlSo",
      "include_colab_link": true
    },
    "kernelspec": {
      "name": "python3",
      "display_name": "Python 3"
    },
    "language_info": {
      "name": "python"
    }
  },
  "cells": [
    {
      "cell_type": "markdown",
      "metadata": {
        "id": "view-in-github",
        "colab_type": "text"
      },
      "source": [
        "<a href=\"https://colab.research.google.com/github/marelycarcamo/Challenge_TelecomX_Parte2/blob/main/Challenge_TelecomX_Parte2.ipynb\" target=\"_parent\"><img src=\"https://colab.research.google.com/assets/colab-badge.svg\" alt=\"Open In Colab\"/></a>"
      ]
    },
    {
      "cell_type": "markdown",
      "source": [
        "# <font color=lightgreen size=10> DESAFIO TELECOMX LATAM PARTE 2</font>\n",
        "---"
      ],
      "metadata": {
        "id": "TumyG94mwhUo"
      }
    },
    {
      "cell_type": "markdown",
      "source": [
        "## <font size=8>🛠️ 1. Preparación de los datos</font>"
      ],
      "metadata": {
        "id": "_dSpipyP9dKC"
      }
    },
    {
      "cell_type": "markdown",
      "source": [
        "### 1.1 Extracción del Archivo Tratado"
      ],
      "metadata": {
        "id": "-sHPrgmVelZa"
      }
    },
    {
      "cell_type": "code",
      "execution_count": null,
      "metadata": {
        "id": "HmaGCDXqedfF"
      },
      "outputs": [],
      "source": [
        "import pandas as pd\n",
        "import numpy as np\n",
        "import plotly.express as px\n",
        "import matplotlib.pyplot as plt\n",
        "from sklearn.compose import make_column_transformer\n",
        "from sklearn.preprocessing import OneHotEncoder, StandardScaler\n",
        "from sklearn.model_selection import train_test_split\n",
        "from sklearn.tree import DecisionTreeClassifier\n",
        "from sklearn.ensemble import RandomForestClassifier\n",
        "from sklearn.metrics import confusion_matrix\n",
        "from sklearn.metrics import ConfusionMatrixDisplay\n",
        "from sklearn.metrics import accuracy_score, precision_score, recall_score, f1_score"
      ]
    },
    {
      "cell_type": "code",
      "source": [
        "datos = pd.read_csv('/content/drive/MyDrive/Colab Notebooks/Estadística_Machine_Learning/Challenge_TelecomX_Parte2/datos_tratados.csv')\n",
        "datos.shape"
      ],
      "metadata": {
        "colab": {
          "base_uri": "https://localhost:8080/",
          "height": 304
        },
        "id": "sfvNcgIGef3j",
        "outputId": "d971d800-2a35-40d3-d652-662bcca5784e"
      },
      "execution_count": null,
      "outputs": [
        {
          "output_type": "error",
          "ename": "FileNotFoundError",
          "evalue": "[Errno 2] No such file or directory: '/content/drive/MyDrive/Colab Notebooks/Estadística_Machine_Learning/Challenge_TelecomX_Parte2/datos_tratados.csv'",
          "traceback": [
            "\u001b[0;31m---------------------------------------------------------------------------\u001b[0m",
            "\u001b[0;31mFileNotFoundError\u001b[0m                         Traceback (most recent call last)",
            "\u001b[0;32m/tmp/ipython-input-2108763675.py\u001b[0m in \u001b[0;36m<cell line: 0>\u001b[0;34m()\u001b[0m\n\u001b[0;32m----> 1\u001b[0;31m \u001b[0mdatos\u001b[0m \u001b[0;34m=\u001b[0m \u001b[0mpd\u001b[0m\u001b[0;34m.\u001b[0m\u001b[0mread_csv\u001b[0m\u001b[0;34m(\u001b[0m\u001b[0;34m'/content/drive/MyDrive/Colab Notebooks/Estadística_Machine_Learning/Challenge_TelecomX_Parte2/datos_tratados.csv'\u001b[0m\u001b[0;34m)\u001b[0m\u001b[0;34m\u001b[0m\u001b[0;34m\u001b[0m\u001b[0m\n\u001b[0m\u001b[1;32m      2\u001b[0m \u001b[0mdatos\u001b[0m\u001b[0;34m.\u001b[0m\u001b[0mshape\u001b[0m\u001b[0;34m\u001b[0m\u001b[0;34m\u001b[0m\u001b[0m\n",
            "\u001b[0;32m/usr/local/lib/python3.11/dist-packages/pandas/io/parsers/readers.py\u001b[0m in \u001b[0;36mread_csv\u001b[0;34m(filepath_or_buffer, sep, delimiter, header, names, index_col, usecols, dtype, engine, converters, true_values, false_values, skipinitialspace, skiprows, skipfooter, nrows, na_values, keep_default_na, na_filter, verbose, skip_blank_lines, parse_dates, infer_datetime_format, keep_date_col, date_parser, date_format, dayfirst, cache_dates, iterator, chunksize, compression, thousands, decimal, lineterminator, quotechar, quoting, doublequote, escapechar, comment, encoding, encoding_errors, dialect, on_bad_lines, delim_whitespace, low_memory, memory_map, float_precision, storage_options, dtype_backend)\u001b[0m\n\u001b[1;32m   1024\u001b[0m     \u001b[0mkwds\u001b[0m\u001b[0;34m.\u001b[0m\u001b[0mupdate\u001b[0m\u001b[0;34m(\u001b[0m\u001b[0mkwds_defaults\u001b[0m\u001b[0;34m)\u001b[0m\u001b[0;34m\u001b[0m\u001b[0;34m\u001b[0m\u001b[0m\n\u001b[1;32m   1025\u001b[0m \u001b[0;34m\u001b[0m\u001b[0m\n\u001b[0;32m-> 1026\u001b[0;31m     \u001b[0;32mreturn\u001b[0m \u001b[0m_read\u001b[0m\u001b[0;34m(\u001b[0m\u001b[0mfilepath_or_buffer\u001b[0m\u001b[0;34m,\u001b[0m \u001b[0mkwds\u001b[0m\u001b[0;34m)\u001b[0m\u001b[0;34m\u001b[0m\u001b[0;34m\u001b[0m\u001b[0m\n\u001b[0m\u001b[1;32m   1027\u001b[0m \u001b[0;34m\u001b[0m\u001b[0m\n\u001b[1;32m   1028\u001b[0m \u001b[0;34m\u001b[0m\u001b[0m\n",
            "\u001b[0;32m/usr/local/lib/python3.11/dist-packages/pandas/io/parsers/readers.py\u001b[0m in \u001b[0;36m_read\u001b[0;34m(filepath_or_buffer, kwds)\u001b[0m\n\u001b[1;32m    618\u001b[0m \u001b[0;34m\u001b[0m\u001b[0m\n\u001b[1;32m    619\u001b[0m     \u001b[0;31m# Create the parser.\u001b[0m\u001b[0;34m\u001b[0m\u001b[0;34m\u001b[0m\u001b[0m\n\u001b[0;32m--> 620\u001b[0;31m     \u001b[0mparser\u001b[0m \u001b[0;34m=\u001b[0m \u001b[0mTextFileReader\u001b[0m\u001b[0;34m(\u001b[0m\u001b[0mfilepath_or_buffer\u001b[0m\u001b[0;34m,\u001b[0m \u001b[0;34m**\u001b[0m\u001b[0mkwds\u001b[0m\u001b[0;34m)\u001b[0m\u001b[0;34m\u001b[0m\u001b[0;34m\u001b[0m\u001b[0m\n\u001b[0m\u001b[1;32m    621\u001b[0m \u001b[0;34m\u001b[0m\u001b[0m\n\u001b[1;32m    622\u001b[0m     \u001b[0;32mif\u001b[0m \u001b[0mchunksize\u001b[0m \u001b[0;32mor\u001b[0m \u001b[0miterator\u001b[0m\u001b[0;34m:\u001b[0m\u001b[0;34m\u001b[0m\u001b[0;34m\u001b[0m\u001b[0m\n",
            "\u001b[0;32m/usr/local/lib/python3.11/dist-packages/pandas/io/parsers/readers.py\u001b[0m in \u001b[0;36m__init__\u001b[0;34m(self, f, engine, **kwds)\u001b[0m\n\u001b[1;32m   1618\u001b[0m \u001b[0;34m\u001b[0m\u001b[0m\n\u001b[1;32m   1619\u001b[0m         \u001b[0mself\u001b[0m\u001b[0;34m.\u001b[0m\u001b[0mhandles\u001b[0m\u001b[0;34m:\u001b[0m \u001b[0mIOHandles\u001b[0m \u001b[0;34m|\u001b[0m \u001b[0;32mNone\u001b[0m \u001b[0;34m=\u001b[0m \u001b[0;32mNone\u001b[0m\u001b[0;34m\u001b[0m\u001b[0;34m\u001b[0m\u001b[0m\n\u001b[0;32m-> 1620\u001b[0;31m         \u001b[0mself\u001b[0m\u001b[0;34m.\u001b[0m\u001b[0m_engine\u001b[0m \u001b[0;34m=\u001b[0m \u001b[0mself\u001b[0m\u001b[0;34m.\u001b[0m\u001b[0m_make_engine\u001b[0m\u001b[0;34m(\u001b[0m\u001b[0mf\u001b[0m\u001b[0;34m,\u001b[0m \u001b[0mself\u001b[0m\u001b[0;34m.\u001b[0m\u001b[0mengine\u001b[0m\u001b[0;34m)\u001b[0m\u001b[0;34m\u001b[0m\u001b[0;34m\u001b[0m\u001b[0m\n\u001b[0m\u001b[1;32m   1621\u001b[0m \u001b[0;34m\u001b[0m\u001b[0m\n\u001b[1;32m   1622\u001b[0m     \u001b[0;32mdef\u001b[0m \u001b[0mclose\u001b[0m\u001b[0;34m(\u001b[0m\u001b[0mself\u001b[0m\u001b[0;34m)\u001b[0m \u001b[0;34m->\u001b[0m \u001b[0;32mNone\u001b[0m\u001b[0;34m:\u001b[0m\u001b[0;34m\u001b[0m\u001b[0;34m\u001b[0m\u001b[0m\n",
            "\u001b[0;32m/usr/local/lib/python3.11/dist-packages/pandas/io/parsers/readers.py\u001b[0m in \u001b[0;36m_make_engine\u001b[0;34m(self, f, engine)\u001b[0m\n\u001b[1;32m   1878\u001b[0m                 \u001b[0;32mif\u001b[0m \u001b[0;34m\"b\"\u001b[0m \u001b[0;32mnot\u001b[0m \u001b[0;32min\u001b[0m \u001b[0mmode\u001b[0m\u001b[0;34m:\u001b[0m\u001b[0;34m\u001b[0m\u001b[0;34m\u001b[0m\u001b[0m\n\u001b[1;32m   1879\u001b[0m                     \u001b[0mmode\u001b[0m \u001b[0;34m+=\u001b[0m \u001b[0;34m\"b\"\u001b[0m\u001b[0;34m\u001b[0m\u001b[0;34m\u001b[0m\u001b[0m\n\u001b[0;32m-> 1880\u001b[0;31m             self.handles = get_handle(\n\u001b[0m\u001b[1;32m   1881\u001b[0m                 \u001b[0mf\u001b[0m\u001b[0;34m,\u001b[0m\u001b[0;34m\u001b[0m\u001b[0;34m\u001b[0m\u001b[0m\n\u001b[1;32m   1882\u001b[0m                 \u001b[0mmode\u001b[0m\u001b[0;34m,\u001b[0m\u001b[0;34m\u001b[0m\u001b[0;34m\u001b[0m\u001b[0m\n",
            "\u001b[0;32m/usr/local/lib/python3.11/dist-packages/pandas/io/common.py\u001b[0m in \u001b[0;36mget_handle\u001b[0;34m(path_or_buf, mode, encoding, compression, memory_map, is_text, errors, storage_options)\u001b[0m\n\u001b[1;32m    871\u001b[0m         \u001b[0;32mif\u001b[0m \u001b[0mioargs\u001b[0m\u001b[0;34m.\u001b[0m\u001b[0mencoding\u001b[0m \u001b[0;32mand\u001b[0m \u001b[0;34m\"b\"\u001b[0m \u001b[0;32mnot\u001b[0m \u001b[0;32min\u001b[0m \u001b[0mioargs\u001b[0m\u001b[0;34m.\u001b[0m\u001b[0mmode\u001b[0m\u001b[0;34m:\u001b[0m\u001b[0;34m\u001b[0m\u001b[0;34m\u001b[0m\u001b[0m\n\u001b[1;32m    872\u001b[0m             \u001b[0;31m# Encoding\u001b[0m\u001b[0;34m\u001b[0m\u001b[0;34m\u001b[0m\u001b[0m\n\u001b[0;32m--> 873\u001b[0;31m             handle = open(\n\u001b[0m\u001b[1;32m    874\u001b[0m                 \u001b[0mhandle\u001b[0m\u001b[0;34m,\u001b[0m\u001b[0;34m\u001b[0m\u001b[0;34m\u001b[0m\u001b[0m\n\u001b[1;32m    875\u001b[0m                 \u001b[0mioargs\u001b[0m\u001b[0;34m.\u001b[0m\u001b[0mmode\u001b[0m\u001b[0;34m,\u001b[0m\u001b[0;34m\u001b[0m\u001b[0;34m\u001b[0m\u001b[0m\n",
            "\u001b[0;31mFileNotFoundError\u001b[0m: [Errno 2] No such file or directory: '/content/drive/MyDrive/Colab Notebooks/Estadística_Machine_Learning/Challenge_TelecomX_Parte2/datos_tratados.csv'"
          ]
        }
      ]
    },
    {
      "cell_type": "code",
      "source": [
        "datos.sample(6)"
      ],
      "metadata": {
        "colab": {
          "base_uri": "https://localhost:8080/",
          "height": 141
        },
        "id": "y0-O1CS_fcI0",
        "outputId": "bec1bf97-b0e0-4adb-82ad-a384a7586446"
      },
      "execution_count": null,
      "outputs": [
        {
          "output_type": "error",
          "ename": "NameError",
          "evalue": "name 'datos' is not defined",
          "traceback": [
            "\u001b[0;31m---------------------------------------------------------------------------\u001b[0m",
            "\u001b[0;31mNameError\u001b[0m                                 Traceback (most recent call last)",
            "\u001b[0;32m/tmp/ipython-input-2573277245.py\u001b[0m in \u001b[0;36m<cell line: 0>\u001b[0;34m()\u001b[0m\n\u001b[0;32m----> 1\u001b[0;31m \u001b[0mdatos\u001b[0m\u001b[0;34m.\u001b[0m\u001b[0msample\u001b[0m\u001b[0;34m(\u001b[0m\u001b[0;36m6\u001b[0m\u001b[0;34m)\u001b[0m\u001b[0;34m\u001b[0m\u001b[0;34m\u001b[0m\u001b[0m\n\u001b[0m",
            "\u001b[0;31mNameError\u001b[0m: name 'datos' is not defined"
          ]
        }
      ]
    },
    {
      "cell_type": "code",
      "source": [
        "datos.info()"
      ],
      "metadata": {
        "colab": {
          "base_uri": "https://localhost:8080/",
          "height": 141
        },
        "id": "ey_GEJWmfmbX",
        "outputId": "e1e35a6f-2674-4038-955b-bd747bb14b86"
      },
      "execution_count": null,
      "outputs": [
        {
          "output_type": "error",
          "ename": "NameError",
          "evalue": "name 'datos' is not defined",
          "traceback": [
            "\u001b[0;31m---------------------------------------------------------------------------\u001b[0m",
            "\u001b[0;31mNameError\u001b[0m                                 Traceback (most recent call last)",
            "\u001b[0;32m/tmp/ipython-input-3168201611.py\u001b[0m in \u001b[0;36m<cell line: 0>\u001b[0;34m()\u001b[0m\n\u001b[0;32m----> 1\u001b[0;31m \u001b[0mdatos\u001b[0m\u001b[0;34m.\u001b[0m\u001b[0minfo\u001b[0m\u001b[0;34m(\u001b[0m\u001b[0;34m)\u001b[0m\u001b[0;34m\u001b[0m\u001b[0;34m\u001b[0m\u001b[0m\n\u001b[0m",
            "\u001b[0;31mNameError\u001b[0m: name 'datos' is not defined"
          ]
        }
      ]
    },
    {
      "cell_type": "markdown",
      "source": [
        "### 1.2 Eliminación de Columnas Irrelevantes"
      ],
      "metadata": {
        "id": "hfD1jGzm-RHm"
      }
    },
    {
      "cell_type": "code",
      "source": [
        "# Separar las variables explicativas de las variables de respuesta.\n",
        "X = datos.drop(['Churn','customerID','tiene_Fibra_Optica'], axis=1)\n",
        "y = datos['Churn']"
      ],
      "metadata": {
        "id": "VClr7xnD6Cvl",
        "colab": {
          "base_uri": "https://localhost:8080/",
          "height": 176
        },
        "outputId": "c0045634-e0ef-4ff6-ca3d-097af0652626"
      },
      "execution_count": null,
      "outputs": [
        {
          "output_type": "error",
          "ename": "NameError",
          "evalue": "name 'datos' is not defined",
          "traceback": [
            "\u001b[0;31m---------------------------------------------------------------------------\u001b[0m",
            "\u001b[0;31mNameError\u001b[0m                                 Traceback (most recent call last)",
            "\u001b[0;32m/tmp/ipython-input-1775142705.py\u001b[0m in \u001b[0;36m<cell line: 0>\u001b[0;34m()\u001b[0m\n\u001b[1;32m      1\u001b[0m \u001b[0;31m# Separar las variables explicativas de las variables de respuesta.\u001b[0m\u001b[0;34m\u001b[0m\u001b[0;34m\u001b[0m\u001b[0m\n\u001b[0;32m----> 2\u001b[0;31m \u001b[0mX\u001b[0m \u001b[0;34m=\u001b[0m \u001b[0mdatos\u001b[0m\u001b[0;34m.\u001b[0m\u001b[0mdrop\u001b[0m\u001b[0;34m(\u001b[0m\u001b[0;34m[\u001b[0m\u001b[0;34m'Churn'\u001b[0m\u001b[0;34m,\u001b[0m\u001b[0;34m'customerID'\u001b[0m\u001b[0;34m,\u001b[0m\u001b[0;34m'tiene_Fibra_Optica'\u001b[0m\u001b[0;34m]\u001b[0m\u001b[0;34m,\u001b[0m \u001b[0maxis\u001b[0m\u001b[0;34m=\u001b[0m\u001b[0;36m1\u001b[0m\u001b[0;34m)\u001b[0m\u001b[0;34m\u001b[0m\u001b[0;34m\u001b[0m\u001b[0m\n\u001b[0m\u001b[1;32m      3\u001b[0m \u001b[0my\u001b[0m \u001b[0;34m=\u001b[0m \u001b[0mdatos\u001b[0m\u001b[0;34m[\u001b[0m\u001b[0;34m'Churn'\u001b[0m\u001b[0;34m]\u001b[0m\u001b[0;34m\u001b[0m\u001b[0;34m\u001b[0m\u001b[0m\n",
            "\u001b[0;31mNameError\u001b[0m: name 'datos' is not defined"
          ]
        }
      ]
    },
    {
      "cell_type": "code",
      "source": [
        "X"
      ],
      "metadata": {
        "colab": {
          "base_uri": "https://localhost:8080/",
          "height": 141
        },
        "id": "CJaCqf766dAs",
        "outputId": "e8cadb6c-1300-4b26-d72b-a03468d08b43"
      },
      "execution_count": null,
      "outputs": [
        {
          "output_type": "error",
          "ename": "NameError",
          "evalue": "name 'X' is not defined",
          "traceback": [
            "\u001b[0;31m---------------------------------------------------------------------------\u001b[0m",
            "\u001b[0;31mNameError\u001b[0m                                 Traceback (most recent call last)",
            "\u001b[0;32m/tmp/ipython-input-3777217377.py\u001b[0m in \u001b[0;36m<cell line: 0>\u001b[0;34m()\u001b[0m\n\u001b[0;32m----> 1\u001b[0;31m \u001b[0mX\u001b[0m\u001b[0;34m\u001b[0m\u001b[0;34m\u001b[0m\u001b[0m\n\u001b[0m",
            "\u001b[0;31mNameError\u001b[0m: name 'X' is not defined"
          ]
        }
      ]
    },
    {
      "cell_type": "code",
      "source": [
        "y.value_counts()"
      ],
      "metadata": {
        "colab": {
          "base_uri": "https://localhost:8080/",
          "height": 141
        },
        "id": "7UFZYgyB6iwp",
        "outputId": "210254f7-5354-40dc-9ae0-3325e3129648"
      },
      "execution_count": null,
      "outputs": [
        {
          "output_type": "error",
          "ename": "NameError",
          "evalue": "name 'y' is not defined",
          "traceback": [
            "\u001b[0;31m---------------------------------------------------------------------------\u001b[0m",
            "\u001b[0;31mNameError\u001b[0m                                 Traceback (most recent call last)",
            "\u001b[0;32m/tmp/ipython-input-1579705575.py\u001b[0m in \u001b[0;36m<cell line: 0>\u001b[0;34m()\u001b[0m\n\u001b[0;32m----> 1\u001b[0;31m \u001b[0my\u001b[0m\u001b[0;34m.\u001b[0m\u001b[0mvalue_counts\u001b[0m\u001b[0;34m(\u001b[0m\u001b[0;34m)\u001b[0m\u001b[0;34m\u001b[0m\u001b[0;34m\u001b[0m\u001b[0m\n\u001b[0m",
            "\u001b[0;31mNameError\u001b[0m: name 'y' is not defined"
          ]
        }
      ]
    },
    {
      "cell_type": "markdown",
      "source": [
        "### 1.3 Encoding"
      ],
      "metadata": {
        "id": "6HgwDKTG_b9B"
      }
    },
    {
      "cell_type": "code",
      "source": [
        "# Creación de lista de columnas categóricas\n",
        "listado_columns=[]\n",
        "for i in X.columns:\n",
        "  if datos[i].dtype == 'object':\n",
        "    listado_columns.append(i)\n",
        "listado_columns"
      ],
      "metadata": {
        "colab": {
          "base_uri": "https://localhost:8080/",
          "height": 210
        },
        "id": "cY2cbmr8gYAf",
        "outputId": "cfd3ab38-df56-492d-c061-d96a4efc2bd3"
      },
      "execution_count": null,
      "outputs": [
        {
          "output_type": "error",
          "ename": "NameError",
          "evalue": "name 'X' is not defined",
          "traceback": [
            "\u001b[0;31m---------------------------------------------------------------------------\u001b[0m",
            "\u001b[0;31mNameError\u001b[0m                                 Traceback (most recent call last)",
            "\u001b[0;32m/tmp/ipython-input-1711896542.py\u001b[0m in \u001b[0;36m<cell line: 0>\u001b[0;34m()\u001b[0m\n\u001b[1;32m      1\u001b[0m \u001b[0;31m# Creación de lista de columnas categóricas\u001b[0m\u001b[0;34m\u001b[0m\u001b[0;34m\u001b[0m\u001b[0m\n\u001b[1;32m      2\u001b[0m \u001b[0mlistado_columns\u001b[0m\u001b[0;34m=\u001b[0m\u001b[0;34m[\u001b[0m\u001b[0;34m]\u001b[0m\u001b[0;34m\u001b[0m\u001b[0;34m\u001b[0m\u001b[0m\n\u001b[0;32m----> 3\u001b[0;31m \u001b[0;32mfor\u001b[0m \u001b[0mi\u001b[0m \u001b[0;32min\u001b[0m \u001b[0mX\u001b[0m\u001b[0;34m.\u001b[0m\u001b[0mcolumns\u001b[0m\u001b[0;34m:\u001b[0m\u001b[0;34m\u001b[0m\u001b[0;34m\u001b[0m\u001b[0m\n\u001b[0m\u001b[1;32m      4\u001b[0m   \u001b[0;32mif\u001b[0m \u001b[0mdatos\u001b[0m\u001b[0;34m[\u001b[0m\u001b[0mi\u001b[0m\u001b[0;34m]\u001b[0m\u001b[0;34m.\u001b[0m\u001b[0mdtype\u001b[0m \u001b[0;34m==\u001b[0m \u001b[0;34m'object'\u001b[0m\u001b[0;34m:\u001b[0m\u001b[0;34m\u001b[0m\u001b[0;34m\u001b[0m\u001b[0m\n\u001b[1;32m      5\u001b[0m     \u001b[0mlistado_columns\u001b[0m\u001b[0;34m.\u001b[0m\u001b[0mappend\u001b[0m\u001b[0;34m(\u001b[0m\u001b[0mi\u001b[0m\u001b[0;34m)\u001b[0m\u001b[0;34m\u001b[0m\u001b[0;34m\u001b[0m\u001b[0m\n",
            "\u001b[0;31mNameError\u001b[0m: name 'X' is not defined"
          ]
        }
      ]
    },
    {
      "cell_type": "code",
      "source": [
        "one_hot = make_column_transformer(\n",
        "    (OneHotEncoder(drop='if_binary'), listado_columns),\n",
        "    remainder='passthrough',\n",
        "    force_int_remainder_cols=False,\n",
        "    sparse_threshold=0\n",
        ")"
      ],
      "metadata": {
        "id": "diaqOsOE_q3t"
      },
      "execution_count": null,
      "outputs": []
    },
    {
      "cell_type": "code",
      "source": [
        "# Aplicar la transformación one-hot a las variables explicativas X.\n",
        "X_encoded = one_hot.fit_transform(X)"
      ],
      "metadata": {
        "id": "Ia65-Gq3Adt5",
        "colab": {
          "base_uri": "https://localhost:8080/",
          "height": 158
        },
        "outputId": "6c08f3db-2f60-4946-8f89-8c29909a5002"
      },
      "execution_count": null,
      "outputs": [
        {
          "output_type": "error",
          "ename": "NameError",
          "evalue": "name 'X' is not defined",
          "traceback": [
            "\u001b[0;31m---------------------------------------------------------------------------\u001b[0m",
            "\u001b[0;31mNameError\u001b[0m                                 Traceback (most recent call last)",
            "\u001b[0;32m/tmp/ipython-input-2283435850.py\u001b[0m in \u001b[0;36m<cell line: 0>\u001b[0;34m()\u001b[0m\n\u001b[1;32m      1\u001b[0m \u001b[0;31m# Aplicar la transformación one-hot a las variables explicativas X.\u001b[0m\u001b[0;34m\u001b[0m\u001b[0;34m\u001b[0m\u001b[0m\n\u001b[0;32m----> 2\u001b[0;31m \u001b[0mX_encoded\u001b[0m \u001b[0;34m=\u001b[0m \u001b[0mone_hot\u001b[0m\u001b[0;34m.\u001b[0m\u001b[0mfit_transform\u001b[0m\u001b[0;34m(\u001b[0m\u001b[0mX\u001b[0m\u001b[0;34m)\u001b[0m\u001b[0;34m\u001b[0m\u001b[0;34m\u001b[0m\u001b[0m\n\u001b[0m",
            "\u001b[0;31mNameError\u001b[0m: name 'X' is not defined"
          ]
        }
      ]
    },
    {
      "cell_type": "code",
      "source": [
        "# Obtener los nombres de las características resultantes después de la transformación one-hot.\n",
        "columnas_one_hot = one_hot.get_feature_names_out()\n",
        "columnas_one_hot"
      ],
      "metadata": {
        "colab": {
          "base_uri": "https://localhost:8080/",
          "height": 321
        },
        "id": "Rpf9wUuYQDV0",
        "outputId": "3f2af32c-63d9-4efd-bb85-6fd29c0a0dc3"
      },
      "execution_count": null,
      "outputs": [
        {
          "output_type": "error",
          "ename": "NotFittedError",
          "evalue": "This ColumnTransformer instance is not fitted yet. Call 'fit' with appropriate arguments before using this estimator.",
          "traceback": [
            "\u001b[0;31m---------------------------------------------------------------------------\u001b[0m",
            "\u001b[0;31mNotFittedError\u001b[0m                            Traceback (most recent call last)",
            "\u001b[0;32m/tmp/ipython-input-2833413074.py\u001b[0m in \u001b[0;36m<cell line: 0>\u001b[0;34m()\u001b[0m\n\u001b[1;32m      1\u001b[0m \u001b[0;31m# Obtener los nombres de las características resultantes después de la transformación one-hot.\u001b[0m\u001b[0;34m\u001b[0m\u001b[0;34m\u001b[0m\u001b[0m\n\u001b[0;32m----> 2\u001b[0;31m \u001b[0mcolumnas_one_hot\u001b[0m \u001b[0;34m=\u001b[0m \u001b[0mone_hot\u001b[0m\u001b[0;34m.\u001b[0m\u001b[0mget_feature_names_out\u001b[0m\u001b[0;34m(\u001b[0m\u001b[0;34m)\u001b[0m\u001b[0;34m\u001b[0m\u001b[0;34m\u001b[0m\u001b[0m\n\u001b[0m\u001b[1;32m      3\u001b[0m \u001b[0mcolumnas_one_hot\u001b[0m\u001b[0;34m\u001b[0m\u001b[0;34m\u001b[0m\u001b[0m\n",
            "\u001b[0;32m/usr/local/lib/python3.11/dist-packages/sklearn/compose/_column_transformer.py\u001b[0m in \u001b[0;36mget_feature_names_out\u001b[0;34m(self, input_features)\u001b[0m\n\u001b[1;32m    633\u001b[0m             \u001b[0mTransformed\u001b[0m \u001b[0mfeature\u001b[0m \u001b[0mnames\u001b[0m\u001b[0;34m.\u001b[0m\u001b[0;34m\u001b[0m\u001b[0;34m\u001b[0m\u001b[0m\n\u001b[1;32m    634\u001b[0m         \"\"\"\n\u001b[0;32m--> 635\u001b[0;31m         \u001b[0mcheck_is_fitted\u001b[0m\u001b[0;34m(\u001b[0m\u001b[0mself\u001b[0m\u001b[0;34m)\u001b[0m\u001b[0;34m\u001b[0m\u001b[0;34m\u001b[0m\u001b[0m\n\u001b[0m\u001b[1;32m    636\u001b[0m         \u001b[0minput_features\u001b[0m \u001b[0;34m=\u001b[0m \u001b[0m_check_feature_names_in\u001b[0m\u001b[0;34m(\u001b[0m\u001b[0mself\u001b[0m\u001b[0;34m,\u001b[0m \u001b[0minput_features\u001b[0m\u001b[0;34m)\u001b[0m\u001b[0;34m\u001b[0m\u001b[0;34m\u001b[0m\u001b[0m\n\u001b[1;32m    637\u001b[0m \u001b[0;34m\u001b[0m\u001b[0m\n",
            "\u001b[0;32m/usr/local/lib/python3.11/dist-packages/sklearn/utils/validation.py\u001b[0m in \u001b[0;36mcheck_is_fitted\u001b[0;34m(estimator, attributes, msg, all_or_any)\u001b[0m\n\u001b[1;32m   1755\u001b[0m \u001b[0;34m\u001b[0m\u001b[0m\n\u001b[1;32m   1756\u001b[0m     \u001b[0;32mif\u001b[0m \u001b[0;32mnot\u001b[0m \u001b[0m_is_fitted\u001b[0m\u001b[0;34m(\u001b[0m\u001b[0mestimator\u001b[0m\u001b[0;34m,\u001b[0m \u001b[0mattributes\u001b[0m\u001b[0;34m,\u001b[0m \u001b[0mall_or_any\u001b[0m\u001b[0;34m)\u001b[0m\u001b[0;34m:\u001b[0m\u001b[0;34m\u001b[0m\u001b[0;34m\u001b[0m\u001b[0m\n\u001b[0;32m-> 1757\u001b[0;31m         \u001b[0;32mraise\u001b[0m \u001b[0mNotFittedError\u001b[0m\u001b[0;34m(\u001b[0m\u001b[0mmsg\u001b[0m \u001b[0;34m%\u001b[0m \u001b[0;34m{\u001b[0m\u001b[0;34m\"name\"\u001b[0m\u001b[0;34m:\u001b[0m \u001b[0mtype\u001b[0m\u001b[0;34m(\u001b[0m\u001b[0mestimator\u001b[0m\u001b[0;34m)\u001b[0m\u001b[0;34m.\u001b[0m\u001b[0m__name__\u001b[0m\u001b[0;34m}\u001b[0m\u001b[0;34m)\u001b[0m\u001b[0;34m\u001b[0m\u001b[0;34m\u001b[0m\u001b[0m\n\u001b[0m\u001b[1;32m   1758\u001b[0m \u001b[0;34m\u001b[0m\u001b[0m\n\u001b[1;32m   1759\u001b[0m \u001b[0;34m\u001b[0m\u001b[0m\n",
            "\u001b[0;31mNotFittedError\u001b[0m: This ColumnTransformer instance is not fitted yet. Call 'fit' with appropriate arguments before using this estimator."
          ]
        }
      ]
    },
    {
      "cell_type": "code",
      "source": [
        "X_df = pd.DataFrame(X_encoded, columns=one_hot.get_feature_names_out())\n",
        "X_df"
      ],
      "metadata": {
        "id": "V1f1zbDuQJ29",
        "colab": {
          "base_uri": "https://localhost:8080/",
          "height": 158
        },
        "outputId": "9af64a16-9512-4255-e13d-5ae8d40b1107"
      },
      "execution_count": null,
      "outputs": [
        {
          "output_type": "error",
          "ename": "NameError",
          "evalue": "name 'X_encoded' is not defined",
          "traceback": [
            "\u001b[0;31m---------------------------------------------------------------------------\u001b[0m",
            "\u001b[0;31mNameError\u001b[0m                                 Traceback (most recent call last)",
            "\u001b[0;32m/tmp/ipython-input-3407040275.py\u001b[0m in \u001b[0;36m<cell line: 0>\u001b[0;34m()\u001b[0m\n\u001b[0;32m----> 1\u001b[0;31m \u001b[0mX_df\u001b[0m \u001b[0;34m=\u001b[0m \u001b[0mpd\u001b[0m\u001b[0;34m.\u001b[0m\u001b[0mDataFrame\u001b[0m\u001b[0;34m(\u001b[0m\u001b[0mX_encoded\u001b[0m\u001b[0;34m,\u001b[0m \u001b[0mcolumns\u001b[0m\u001b[0;34m=\u001b[0m\u001b[0mone_hot\u001b[0m\u001b[0;34m.\u001b[0m\u001b[0mget_feature_names_out\u001b[0m\u001b[0;34m(\u001b[0m\u001b[0;34m)\u001b[0m\u001b[0;34m)\u001b[0m\u001b[0;34m\u001b[0m\u001b[0;34m\u001b[0m\u001b[0m\n\u001b[0m\u001b[1;32m      2\u001b[0m \u001b[0mX_df\u001b[0m\u001b[0;34m\u001b[0m\u001b[0;34m\u001b[0m\u001b[0m\n",
            "\u001b[0;31mNameError\u001b[0m: name 'X_encoded' is not defined"
          ]
        }
      ]
    },
    {
      "cell_type": "code",
      "source": [
        "y.head()"
      ],
      "metadata": {
        "id": "j6F1pFyFuihq"
      },
      "execution_count": null,
      "outputs": []
    },
    {
      "cell_type": "markdown",
      "source": [
        "## Transformando la variable respuesta"
      ],
      "metadata": {
        "id": "eVg26seuoAvc"
      }
    },
    {
      "cell_type": "markdown",
      "source": [
        "Así como las variables explicativas, la variable objetivo también debe convertirse al formato numérico. Podemos representar una variable objetivo binaria como 0 o 1, donde 0 indica la ausencia de la característica de la variable y 1 representa su presencia."
      ],
      "metadata": {
        "id": "v2czom6YKsCp"
      }
    },
    {
      "cell_type": "code",
      "source": [
        "# Importar LabelEncoder de scikit-learn para transformar la variable de respuesta.\n",
        "from sklearn.preprocessing import LabelEncoder"
      ],
      "metadata": {
        "id": "kOVKLS1uA2LN"
      },
      "execution_count": null,
      "outputs": []
    },
    {
      "cell_type": "code",
      "source": [
        "# Instanciar el objeto LabelEncoder.\n",
        "label_encoder = LabelEncoder()"
      ],
      "metadata": {
        "id": "aB0ESpVxA2Hj"
      },
      "execution_count": null,
      "outputs": []
    },
    {
      "cell_type": "code",
      "source": [
        "# Ajustar y transformar la variable de respuesta 'y' a formato numérico (0 o 1).\n",
        "y = label_encoder.fit_transform(y)\n",
        "y"
      ],
      "metadata": {
        "id": "-t4p8aO2A3oY",
        "colab": {
          "base_uri": "https://localhost:8080/",
          "height": 176
        },
        "outputId": "39081759-ef5c-4f89-f588-091a01a9244e"
      },
      "execution_count": null,
      "outputs": [
        {
          "output_type": "error",
          "ename": "NameError",
          "evalue": "name 'y' is not defined",
          "traceback": [
            "\u001b[0;31m---------------------------------------------------------------------------\u001b[0m",
            "\u001b[0;31mNameError\u001b[0m                                 Traceback (most recent call last)",
            "\u001b[0;32m/tmp/ipython-input-3428353256.py\u001b[0m in \u001b[0;36m<cell line: 0>\u001b[0;34m()\u001b[0m\n\u001b[1;32m      1\u001b[0m \u001b[0;31m# Ajustar y transformar la variable de respuesta 'y' a formato numérico (0 o 1).\u001b[0m\u001b[0;34m\u001b[0m\u001b[0;34m\u001b[0m\u001b[0m\n\u001b[0;32m----> 2\u001b[0;31m \u001b[0my\u001b[0m \u001b[0;34m=\u001b[0m \u001b[0mlabel_encoder\u001b[0m\u001b[0;34m.\u001b[0m\u001b[0mfit_transform\u001b[0m\u001b[0;34m(\u001b[0m\u001b[0my\u001b[0m\u001b[0;34m)\u001b[0m\u001b[0;34m\u001b[0m\u001b[0;34m\u001b[0m\u001b[0m\n\u001b[0m\u001b[1;32m      3\u001b[0m \u001b[0my\u001b[0m\u001b[0;34m\u001b[0m\u001b[0;34m\u001b[0m\u001b[0m\n",
            "\u001b[0;31mNameError\u001b[0m: name 'y' is not defined"
          ]
        }
      ]
    },
    {
      "cell_type": "code",
      "source": [
        "y_df = pd.DataFrame(y)\n",
        "y_df.head(3)"
      ],
      "metadata": {
        "colab": {
          "base_uri": "https://localhost:8080/",
          "height": 158
        },
        "id": "cQvqunTSwjo-",
        "outputId": "94ef2727-f3ea-41c6-a464-60b0da3cea79"
      },
      "execution_count": null,
      "outputs": [
        {
          "output_type": "error",
          "ename": "NameError",
          "evalue": "name 'y' is not defined",
          "traceback": [
            "\u001b[0;31m---------------------------------------------------------------------------\u001b[0m",
            "\u001b[0;31mNameError\u001b[0m                                 Traceback (most recent call last)",
            "\u001b[0;32m/tmp/ipython-input-3733224413.py\u001b[0m in \u001b[0;36m<cell line: 0>\u001b[0;34m()\u001b[0m\n\u001b[0;32m----> 1\u001b[0;31m \u001b[0my_df\u001b[0m \u001b[0;34m=\u001b[0m \u001b[0mpd\u001b[0m\u001b[0;34m.\u001b[0m\u001b[0mDataFrame\u001b[0m\u001b[0;34m(\u001b[0m\u001b[0my\u001b[0m\u001b[0;34m)\u001b[0m\u001b[0;34m\u001b[0m\u001b[0;34m\u001b[0m\u001b[0m\n\u001b[0m\u001b[1;32m      2\u001b[0m \u001b[0my_df\u001b[0m\u001b[0;34m.\u001b[0m\u001b[0mhead\u001b[0m\u001b[0;34m(\u001b[0m\u001b[0;36m3\u001b[0m\u001b[0;34m)\u001b[0m\u001b[0;34m\u001b[0m\u001b[0;34m\u001b[0m\u001b[0m\n",
            "\u001b[0;31mNameError\u001b[0m: name 'y' is not defined"
          ]
        }
      ]
    },
    {
      "cell_type": "markdown",
      "source": [
        "### 1.4 Verificación de la Proporción de Cancelación (Churn)"
      ],
      "metadata": {
        "id": "wRFKb6Z1Q-gU"
      }
    },
    {
      "cell_type": "code",
      "source": [
        "valores_churn = pd.DataFrame(y_df.value_counts()).reset_index()\n",
        "valores_churn.columns = ['Churn','Cantidad']\n",
        "valores_churn"
      ],
      "metadata": {
        "id": "b3-CFPxTxwC8"
      },
      "execution_count": null,
      "outputs": []
    },
    {
      "cell_type": "code",
      "source": [
        "\n",
        "fig1 =px.pie(\n",
        "    names = valores_churn.Churn,\n",
        "    values = valores_churn.Cantidad,\n",
        "    title = 'Proporción de Cancelación (Churn)',\n",
        "\n",
        "    )\n",
        "fig1.update_legends(title_text = 'Cancelación (Churn)',\n",
        "                    font = dict(size = 12)\n",
        "\n",
        "                    )\n",
        "fig1.update_traces(textposition='inside', textinfo='label+percent',  insidetextfont=dict(color = 'white', size=14),\n",
        "                       # Añadir el mapeo para mostrar los nombres correctos en el gráfico\n",
        "labels=[\"Vigente\" if label == 0 else \"Cancelado\" for label in valores_churn['Churn']]\n",
        "                   )\n",
        "\n",
        "fig1.update_layout(\n",
        "    title_x=0.5,\n",
        "    width=500,\n",
        "    height=500\n",
        "\n",
        ")\n",
        "\n",
        "fig1.show()"
      ],
      "metadata": {
        "id": "hxAgwNIeaKMX",
        "colab": {
          "base_uri": "https://localhost:8080/",
          "height": 210
        },
        "outputId": "2ff15c91-70fd-43e1-b949-90633cc9e8a4"
      },
      "execution_count": null,
      "outputs": [
        {
          "output_type": "error",
          "ename": "NameError",
          "evalue": "name 'valores_churn' is not defined",
          "traceback": [
            "\u001b[0;31m---------------------------------------------------------------------------\u001b[0m",
            "\u001b[0;31mNameError\u001b[0m                                 Traceback (most recent call last)",
            "\u001b[0;32m/tmp/ipython-input-3886696543.py\u001b[0m in \u001b[0;36m<cell line: 0>\u001b[0;34m()\u001b[0m\n\u001b[1;32m      1\u001b[0m fig1 =px.pie(\n\u001b[0;32m----> 2\u001b[0;31m     \u001b[0mnames\u001b[0m \u001b[0;34m=\u001b[0m \u001b[0mvalores_churn\u001b[0m\u001b[0;34m.\u001b[0m\u001b[0mChurn\u001b[0m\u001b[0;34m,\u001b[0m\u001b[0;34m\u001b[0m\u001b[0;34m\u001b[0m\u001b[0m\n\u001b[0m\u001b[1;32m      3\u001b[0m     \u001b[0mvalues\u001b[0m \u001b[0;34m=\u001b[0m \u001b[0mvalores_churn\u001b[0m\u001b[0;34m.\u001b[0m\u001b[0mCantidad\u001b[0m\u001b[0;34m,\u001b[0m\u001b[0;34m\u001b[0m\u001b[0;34m\u001b[0m\u001b[0m\n\u001b[1;32m      4\u001b[0m     \u001b[0mtitle\u001b[0m \u001b[0;34m=\u001b[0m \u001b[0;34m'Proporción de Cancelación (Churn)'\u001b[0m\u001b[0;34m,\u001b[0m\u001b[0;34m\u001b[0m\u001b[0;34m\u001b[0m\u001b[0m\n\u001b[1;32m      5\u001b[0m \u001b[0;34m\u001b[0m\u001b[0m\n",
            "\u001b[0;31mNameError\u001b[0m: name 'valores_churn' is not defined"
          ]
        }
      ]
    },
    {
      "cell_type": "markdown",
      "source": [
        "### 1.5 Balanceo de Clases"
      ],
      "metadata": {
        "id": "D7SfYLInd2P_"
      }
    },
    {
      "cell_type": "code",
      "source": [
        "#Aplicar técnicas de balanceo: undersampling o oversampling."
      ],
      "metadata": {
        "id": "ulyAaT7Ri2uj"
      },
      "execution_count": null,
      "outputs": []
    },
    {
      "cell_type": "markdown",
      "source": [
        "### 1.6 Normalización o Estandarización"
      ],
      "metadata": {
        "id": "gviCKhWMeAjN"
      }
    },
    {
      "cell_type": "code",
      "source": [
        "from sklearn.pipeline import Pipeline\n",
        "pipeline = Pipeline([\n",
        "    ('scaler', StandardScaler()),\n",
        "    ('model', RandomForestClassifier())\n",
        "])"
      ],
      "metadata": {
        "id": "MghFhhRL736f"
      },
      "execution_count": null,
      "outputs": []
    },
    {
      "cell_type": "markdown",
      "source": [
        "## <font size=8>🎯 2. Correlación y Selección de Variables</font>"
      ],
      "metadata": {
        "id": "j0M0D36AeIcG"
      }
    },
    {
      "cell_type": "markdown",
      "source": [
        "### 2.1 Análisis de Correlación"
      ],
      "metadata": {
        "id": "i2TtWdrheoPL"
      }
    },
    {
      "cell_type": "code",
      "source": [
        "# Gráfico de correlación\n",
        "fig2 = px.imshow(X_df.corr())\n",
        "fig2.update_layout(\n",
        "    title='Matriz de Correlación',\n",
        "    title_x=0.5,\n",
        "    width=1000,\n",
        "    height=1000,\n",
        "    xaxis=dict(tickangle=-45)\n",
        ")\n",
        "fig2.show()\n"
      ],
      "metadata": {
        "id": "vOYTfyma06Cx",
        "colab": {
          "base_uri": "https://localhost:8080/",
          "height": 210
        },
        "outputId": "641080b2-46a4-448e-ed89-41d76ec9ac05"
      },
      "execution_count": null,
      "outputs": [
        {
          "output_type": "error",
          "ename": "NameError",
          "evalue": "name 'X_df' is not defined",
          "traceback": [
            "\u001b[0;31m---------------------------------------------------------------------------\u001b[0m",
            "\u001b[0;31mNameError\u001b[0m                                 Traceback (most recent call last)",
            "\u001b[0;32m/tmp/ipython-input-1045855171.py\u001b[0m in \u001b[0;36m<cell line: 0>\u001b[0;34m()\u001b[0m\n\u001b[1;32m      1\u001b[0m \u001b[0;31m# Gráfico de correlación\u001b[0m\u001b[0;34m\u001b[0m\u001b[0;34m\u001b[0m\u001b[0m\n\u001b[0;32m----> 2\u001b[0;31m \u001b[0mfig2\u001b[0m \u001b[0;34m=\u001b[0m \u001b[0mpx\u001b[0m\u001b[0;34m.\u001b[0m\u001b[0mimshow\u001b[0m\u001b[0;34m(\u001b[0m\u001b[0mX_df\u001b[0m\u001b[0;34m.\u001b[0m\u001b[0mcorr\u001b[0m\u001b[0;34m(\u001b[0m\u001b[0;34m)\u001b[0m\u001b[0;34m)\u001b[0m\u001b[0;34m\u001b[0m\u001b[0;34m\u001b[0m\u001b[0m\n\u001b[0m\u001b[1;32m      3\u001b[0m fig2.update_layout(\n\u001b[1;32m      4\u001b[0m     \u001b[0mtitle\u001b[0m\u001b[0;34m=\u001b[0m\u001b[0;34m'Matriz de Correlación'\u001b[0m\u001b[0;34m,\u001b[0m\u001b[0;34m\u001b[0m\u001b[0;34m\u001b[0m\u001b[0m\n\u001b[1;32m      5\u001b[0m     \u001b[0mtitle_x\u001b[0m\u001b[0;34m=\u001b[0m\u001b[0;36m0.5\u001b[0m\u001b[0;34m,\u001b[0m\u001b[0;34m\u001b[0m\u001b[0;34m\u001b[0m\u001b[0m\n",
            "\u001b[0;31mNameError\u001b[0m: name 'X_df' is not defined"
          ]
        }
      ]
    },
    {
      "cell_type": "markdown",
      "source": [
        "### 2.2 Análisis Dirigido"
      ],
      "metadata": {
        "id": "hhc_yYUsewwU"
      }
    },
    {
      "cell_type": "markdown",
      "source": [
        "2.2.1. Tiempo de Contrato X Cancelación"
      ],
      "metadata": {
        "id": "DFAa8giJ1Rp6"
      }
    },
    {
      "cell_type": "markdown",
      "source": [],
      "metadata": {
        "id": "oKbjnx-hi40X"
      }
    },
    {
      "cell_type": "code",
      "source": [],
      "metadata": {
        "id": "X-nQVyekiXt4"
      },
      "execution_count": null,
      "outputs": []
    },
    {
      "cell_type": "code",
      "source": [
        "# Crear una lista de etiquetas legibles para Churn\n",
        "etiquetas_churn = ['Vigente' if valor == 0 else 'Cancelado' for valor in y]\n",
        "fig3=px.box(X_df, x='remainder__cliente_Permanencia', color=etiquetas_churn, title='Tiempo de Contrato X Cancelación')\n",
        "fig3.update_layout(\n",
        "    title_x=0.5,\n",
        "    width=900,\n",
        "    height=500\n",
        ")\n",
        "\n",
        "fig3.update_legends(title_text = 'Cancelación (Churn)',\n",
        "                    font = dict(size = 12)\n",
        "                    )\n",
        "fig3.show()"
      ],
      "metadata": {
        "id": "HWQ-SSmfi1Xc",
        "colab": {
          "base_uri": "https://localhost:8080/",
          "height": 210
        },
        "outputId": "c66057df-abc0-479f-86b2-c9d0dbecfe7a"
      },
      "execution_count": null,
      "outputs": [
        {
          "output_type": "error",
          "ename": "NameError",
          "evalue": "name 'y' is not defined",
          "traceback": [
            "\u001b[0;31m---------------------------------------------------------------------------\u001b[0m",
            "\u001b[0;31mNameError\u001b[0m                                 Traceback (most recent call last)",
            "\u001b[0;32m/tmp/ipython-input-568405476.py\u001b[0m in \u001b[0;36m<cell line: 0>\u001b[0;34m()\u001b[0m\n\u001b[1;32m      1\u001b[0m \u001b[0;31m# Crear una lista de etiquetas legibles para Churn\u001b[0m\u001b[0;34m\u001b[0m\u001b[0;34m\u001b[0m\u001b[0m\n\u001b[0;32m----> 2\u001b[0;31m \u001b[0metiquetas_churn\u001b[0m \u001b[0;34m=\u001b[0m \u001b[0;34m[\u001b[0m\u001b[0;34m'Vigente'\u001b[0m \u001b[0;32mif\u001b[0m \u001b[0mvalor\u001b[0m \u001b[0;34m==\u001b[0m \u001b[0;36m0\u001b[0m \u001b[0;32melse\u001b[0m \u001b[0;34m'Cancelado'\u001b[0m \u001b[0;32mfor\u001b[0m \u001b[0mvalor\u001b[0m \u001b[0;32min\u001b[0m \u001b[0my\u001b[0m\u001b[0;34m]\u001b[0m\u001b[0;34m\u001b[0m\u001b[0;34m\u001b[0m\u001b[0m\n\u001b[0m\u001b[1;32m      3\u001b[0m \u001b[0mfig3\u001b[0m\u001b[0;34m=\u001b[0m\u001b[0mpx\u001b[0m\u001b[0;34m.\u001b[0m\u001b[0mbox\u001b[0m\u001b[0;34m(\u001b[0m\u001b[0mX_df\u001b[0m\u001b[0;34m,\u001b[0m \u001b[0mx\u001b[0m\u001b[0;34m=\u001b[0m\u001b[0;34m'remainder__cliente_Permanencia'\u001b[0m\u001b[0;34m,\u001b[0m \u001b[0mcolor\u001b[0m\u001b[0;34m=\u001b[0m\u001b[0metiquetas_churn\u001b[0m\u001b[0;34m,\u001b[0m \u001b[0mtitle\u001b[0m\u001b[0;34m=\u001b[0m\u001b[0;34m'Tiempo de Contrato X Cancelación'\u001b[0m\u001b[0;34m)\u001b[0m\u001b[0;34m\u001b[0m\u001b[0;34m\u001b[0m\u001b[0m\n\u001b[1;32m      4\u001b[0m fig3.update_layout(\n\u001b[1;32m      5\u001b[0m     \u001b[0mtitle_x\u001b[0m\u001b[0;34m=\u001b[0m\u001b[0;36m0.5\u001b[0m\u001b[0;34m,\u001b[0m\u001b[0;34m\u001b[0m\u001b[0;34m\u001b[0m\u001b[0m\n",
            "\u001b[0;31mNameError\u001b[0m: name 'y' is not defined"
          ]
        }
      ]
    },
    {
      "cell_type": "markdown",
      "source": [
        "2.2.2. Gasto Total X Cancelación"
      ],
      "metadata": {
        "id": "JiOijaOY1hQl"
      }
    },
    {
      "cell_type": "code",
      "source": [
        "fig4= px.box(X_df, x='remainder__cuenta_CuentaTotal', color=etiquetas_churn, title='Gasto Total X Cancelación')\n",
        "fig4.update_layout(\n",
        "    title_x=0.5,\n",
        "    width=900,\n",
        "    height=500\n",
        ")\n",
        "\n",
        "fig4.update_legends(title_text = 'Cancelación (Churn)',\n",
        "                    font = dict(size = 12)\n",
        "\n",
        "                    )\n",
        "fig4.show()"
      ],
      "metadata": {
        "id": "FobehBGh1iNA"
      },
      "execution_count": null,
      "outputs": []
    },
    {
      "cell_type": "markdown",
      "source": [
        "## <font size=10>🤖 3. Modelado Predictivo </font>"
      ],
      "metadata": {
        "id": "uQiG1QxGe7kU"
      }
    },
    {
      "cell_type": "markdown",
      "source": [
        "### 3.1 Separación de Datos"
      ],
      "metadata": {
        "id": "E00T-JfOfFf-"
      }
    },
    {
      "cell_type": "code",
      "source": [
        "#Divide el conjunto de datos en entrenamiento y prueba para evaluar el rendimiento del modelo. Una división común es 70% para entrenamiento y 30% para prueba.\n",
        "\n",
        "X_train, X_test, y_train, y_test = train_test_split(X_encoded, y, test_size=0.3, random_state=42)"
      ],
      "metadata": {
        "id": "XlY7X8eYizZB"
      },
      "execution_count": null,
      "outputs": []
    },
    {
      "cell_type": "code",
      "source": [
        "from imblearn.over_sampling import SMOTE\n",
        "\n",
        "# Después de la división train-test\n",
        "#smote = SMOTE(random_state=42)\n",
        "#X_train, y_train = smote.fit_resample(X_train, y_train)"
      ],
      "metadata": {
        "id": "_oiSFrLUFgQZ"
      },
      "execution_count": null,
      "outputs": []
    },
    {
      "cell_type": "markdown",
      "source": [
        "### 3.2 Creación de Modelos"
      ],
      "metadata": {
        "id": "GyW0KP5AfPCn"
      }
    },
    {
      "cell_type": "markdown",
      "source": [
        "#### 3.2.1 Modelo Arbol de Decisión"
      ],
      "metadata": {
        "id": "2YIj7SiF8rKC"
      }
    },
    {
      "cell_type": "code",
      "source": [
        "# Inicializa un nuevo modelo de árbol de decisión\n",
        "arbol = DecisionTreeClassifier(max_depth=3)\n",
        "\n",
        "arbol.fit(X_train,y_train)\n",
        "print(f'La exactitud del modelo con el conjunto de entrenamiento es de: {arbol.score(X_train,y_train)}')\n",
        "print(f'La exactitud del modelo con el conjunto de validación es de: {arbol.score(X_test,y_test)}')"
      ],
      "metadata": {
        "id": "MXfzQWkqiyW_",
        "colab": {
          "base_uri": "https://localhost:8080/",
          "height": 210
        },
        "outputId": "689308da-2a56-4708-97e3-b672585f86d1"
      },
      "execution_count": null,
      "outputs": [
        {
          "output_type": "error",
          "ename": "NameError",
          "evalue": "name 'X_train' is not defined",
          "traceback": [
            "\u001b[0;31m---------------------------------------------------------------------------\u001b[0m",
            "\u001b[0;31mNameError\u001b[0m                                 Traceback (most recent call last)",
            "\u001b[0;32m/tmp/ipython-input-3720163152.py\u001b[0m in \u001b[0;36m<cell line: 0>\u001b[0;34m()\u001b[0m\n\u001b[1;32m      2\u001b[0m \u001b[0marbol\u001b[0m \u001b[0;34m=\u001b[0m \u001b[0mDecisionTreeClassifier\u001b[0m\u001b[0;34m(\u001b[0m\u001b[0mmax_depth\u001b[0m\u001b[0;34m=\u001b[0m\u001b[0;36m3\u001b[0m\u001b[0;34m)\u001b[0m\u001b[0;34m\u001b[0m\u001b[0;34m\u001b[0m\u001b[0m\n\u001b[1;32m      3\u001b[0m \u001b[0;34m\u001b[0m\u001b[0m\n\u001b[0;32m----> 4\u001b[0;31m \u001b[0marbol\u001b[0m\u001b[0;34m.\u001b[0m\u001b[0mfit\u001b[0m\u001b[0;34m(\u001b[0m\u001b[0mX_train\u001b[0m\u001b[0;34m,\u001b[0m\u001b[0my_train\u001b[0m\u001b[0;34m)\u001b[0m\u001b[0;34m\u001b[0m\u001b[0;34m\u001b[0m\u001b[0m\n\u001b[0m\u001b[1;32m      5\u001b[0m \u001b[0mprint\u001b[0m\u001b[0;34m(\u001b[0m\u001b[0;34mf'La exactitud del modelo con el conjunto de entrenamiento es de: {arbol.score(X_train,y_train)}'\u001b[0m\u001b[0;34m)\u001b[0m\u001b[0;34m\u001b[0m\u001b[0;34m\u001b[0m\u001b[0m\n\u001b[1;32m      6\u001b[0m \u001b[0mprint\u001b[0m\u001b[0;34m(\u001b[0m\u001b[0;34mf'La exactitud del modelo con el conjunto de validación es de: {arbol.score(X_test,y_test)}'\u001b[0m\u001b[0;34m)\u001b[0m\u001b[0;34m\u001b[0m\u001b[0;34m\u001b[0m\u001b[0m\n",
            "\u001b[0;31mNameError\u001b[0m: name 'X_train' is not defined"
          ]
        }
      ]
    },
    {
      "cell_type": "markdown",
      "source": [
        "#### 3.2.2. Modelo Random Forest"
      ],
      "metadata": {
        "id": "j6nvses685s3"
      }
    },
    {
      "cell_type": "code",
      "source": [
        "random_forest = RandomForestClassifier(max_depth = 2)\n",
        "random_forest.fit(X_train,y_train)\n",
        "\n",
        "pipeline = Pipeline([\n",
        "    ('scaler', StandardScaler()),\n",
        "    ('model', RandomForestClassifier(max_depth=2))\n",
        "])\n",
        "pipeline.fit(X_train, y_train)\n",
        "\n",
        "print(f'La exactitud del modelo con el conjunto de entrenamiento es de: {random_forest.score(X_train,y_train)}')\n",
        "print(f'La exactitud del modelo con el conjunto de entrenamiento es de: {pipeline.score(X_train,y_train)}')\n",
        "print(f'La exactitud del modelo con el conjunto de validación es de: {random_forest.score(X_test,y_test)}')\n",
        "print(f'La exactitud del modelo con el conjunto de validación es de: {pipeline.score(X_test,y_test)}')\n",
        "\n"
      ],
      "metadata": {
        "id": "1290uX9L5YHG"
      },
      "execution_count": null,
      "outputs": []
    },
    {
      "cell_type": "markdown",
      "source": [
        "### 3.3 Evaluación de los Modelos"
      ],
      "metadata": {
        "id": "ElEJVhkFfVIf"
      }
    },
    {
      "cell_type": "code",
      "source": [
        "X_train, X_val, y_train, y_val = train_test_split(\n",
        "    X_train, y_train,\n",
        "    test_size=0.2,\n",
        "    stratify=y_train  # Mantiene proporción de clases\n",
        ")"
      ],
      "metadata": {
        "id": "4Rdgtg0pixEy"
      },
      "execution_count": null,
      "outputs": []
    },
    {
      "cell_type": "markdown",
      "source": [
        "#### 3.3.1 Evaluación. Modelo Arbol de Decisión"
      ],
      "metadata": {
        "id": "FvNLuQE1T5fA"
      }
    },
    {
      "cell_type": "code",
      "source": [
        "prevision_arbol = arbol.predict(X_val) # Realiza predicciones en el conjunto de validación\n",
        "matriz_confusion = confusion_matrix(y_val,prevision_arbol) # Calcula la matriz de confusión\n",
        "print(matriz_confusion) # Imprime la matriz de confusión"
      ],
      "metadata": {
        "id": "qm-BeyA1S6eq"
      },
      "execution_count": null,
      "outputs": []
    },
    {
      "cell_type": "code",
      "source": [
        "# Crea una visualización de la matriz de confusión sin etiquetas personalizadas\n",
        "visualizacion = ConfusionMatrixDisplay(confusion_matrix = matriz_confusion, display_labels=['No cancela','Cancela'])\n",
        "visualizacion.plot(); # Muestra la visualización"
      ],
      "metadata": {
        "id": "NVEf3FquUIvR"
      },
      "execution_count": null,
      "outputs": []
    },
    {
      "cell_type": "code",
      "source": [
        "# Imprime la precisión, sensibilidad (recall) y exactitud (accuracy) del modelo en el conjunto de validación, F1-score del modelo en el conjunto de validación.\n",
        "print(f'Precisión (Decisión Tree)            : {precision_score(y_val,prevision_arbol)}')\n",
        "print(f'Sensibilidad (Recall - Decisión Tree): {recall_score(y_val,prevision_arbol)}')\n",
        "print(f'Exactitud (accuracy - Decisión Tree) : {accuracy_score(y_val,prevision_arbol)}')\n",
        "\n",
        "print(f'F1-score (Decisión Tree)             : {f1_score(y_val,prevision_arbol)}')"
      ],
      "metadata": {
        "id": "WPpT6sGhYVYZ"
      },
      "execution_count": null,
      "outputs": []
    },
    {
      "cell_type": "markdown",
      "source": [
        "#### 3.3.2 Matriz de Confusión. Modelo Random Forest"
      ],
      "metadata": {
        "id": "0LOv0dd8VSCK"
      }
    },
    {
      "cell_type": "code",
      "source": [
        "prevision_rf = random_forest.predict(X_val) # Realiza predicciones en el conjunto de validación\n",
        "matriz_confusion = confusion_matrix(y_val,prevision_rf) # Calcula la matriz de confusión\n",
        "print(matriz_confusion) # Imprime la matriz de confusión"
      ],
      "metadata": {
        "id": "AXfSw656Vo6E"
      },
      "execution_count": null,
      "outputs": []
    },
    {
      "cell_type": "code",
      "source": [
        "# Crea una visualización de la matriz de confusión sin etiquetas personalizadas\n",
        "visualizacion = ConfusionMatrixDisplay(confusion_matrix = matriz_confusion, display_labels=['No Cancela','Cancela'])\n",
        "visualizacion.plot(); # Muestra la visualización"
      ],
      "metadata": {
        "id": "PhqYWWOCVqDV"
      },
      "execution_count": null,
      "outputs": []
    },
    {
      "cell_type": "code",
      "source": [
        "# Imprime la precisión, sensibilidad (recall) y exactitud (accuracy) del modelo en el conjunto de validación, F1-score del modelo en el conjunto de validación.\n",
        "print(f'Precisión (Decisión Random Forest)            : {precision_score(y_val,prevision_rf)}')\n",
        "print(f'Sensibilidad (Recall - Decisión Random Forest): {recall_score(y_val,prevision_rf)}')\n",
        "print(f'Exactitud (accuracy - Decisión Random Forest) : {accuracy_score(y_val,prevision_rf)}')\n",
        "\n",
        "print(f'F1-score (Decisión Random Forest)             : {f1_score(y_val,prevision_rf)}')"
      ],
      "metadata": {
        "id": "GQ6H6RHeZT2r"
      },
      "execution_count": null,
      "outputs": []
    },
    {
      "cell_type": "markdown",
      "source": [
        "## <font size=8>📋 4. Interpretación y Conclusiones</font>"
      ],
      "metadata": {
        "id": "KFko8Qfhi6WS"
      }
    },
    {
      "cell_type": "markdown",
      "source": [
        "### 4.1 Análisis de la Importancia de las Variables"
      ],
      "metadata": {
        "id": "Vsgy6joejKg5"
      }
    },
    {
      "cell_type": "code",
      "source": [
        "# Para Random Forest\n",
        "importancias = random_forest.feature_importances_\n",
        "features = X_df.columns\n",
        "\n",
        "# Crear DataFrame\n",
        "df_importancias = pd.DataFrame({\n",
        "    'Feature': features,\n",
        "    'Importance': importancias\n",
        "}).sort_values('Importance', ascending=False)"
      ],
      "metadata": {
        "id": "pTlIgtfmwx-2"
      },
      "execution_count": null,
      "outputs": []
    },
    {
      "cell_type": "code",
      "source": [
        "fig = px.bar(df_importancias, x='Importance', y='Feature', title='Importancia de Variables')\n",
        "fig.update_layout(\n",
        "    title_x=0.5,\n",
        "    width=900,\n",
        "    height=500\n",
        ")\n",
        "fig.show()"
      ],
      "metadata": {
        "id": "t48s1pXOjTaF"
      },
      "execution_count": null,
      "outputs": []
    },
    {
      "cell_type": "code",
      "source": [
        "# Célula opcional para guardar el informe\n",
        "with open('informe_churn.txt', 'w') as f:\n",
        "    f.write(\"RESUMEN EJECUTIVO:\\n\")\n",
        "    # Get top 5 variables from the df_importancias DataFrame\n",
        "    top_5_variables = df_importancias['Feature'].head(5).tolist()\n",
        "    f.write(f\"- Variables clave: {', '.join(top_5_variables)}\\n\")\n",
        "    # Calculate F1-score using the random_forest model on the test set\n",
        "    prevision_rf_test = random_forest.predict(X_test)\n",
        "    f1_score_test = f1_score(y_test, prevision_rf_test)\n",
        "    f.write(f\"- F1-Score modelo: {f1_score_test:.2f}\\n\")"
      ],
      "metadata": {
        "id": "8Aml4vjpD_48"
      },
      "execution_count": null,
      "outputs": []
    },
    {
      "cell_type": "markdown",
      "source": [
        "### 4.2 Conclusión"
      ],
      "metadata": {
        "id": "zdFXjtQQjUFw"
      }
    },
    {
      "cell_type": "markdown",
      "source": [
        "### **📊 INFORME FINAL: FACTORES DE CHURN Y ESTRATEGIAS DE RETENCIÓN**   \n",
        "\n",
        "---\n",
        "\n",
        "#### **🔍 1. CONTEXTO Y PREPROCESAMIENTO**  \n",
        "**Origen de los datos**:  \n",
        "✔ Dataset inicial procesado en `Challenge1.ipynb` con:  \n",
        "   - Normalización de valores `\"No internet Service\" → \"No\"` (binarización)  \n",
        "   - Creación de columna `tiene_Fibra_Optica` desde `internet_ServicioInternet`  \n",
        "\n",
        "**Optimización en este Notebook**:  \n",
        "✔ Eliminación de `tiene_Fibra_Optica` por redundancia con `internet_ServicioInternet`  \n",
        "✔ Imputación de nulos en `cuenta_CuentaTotal` con la media (solo 1.2% de datos)  \n",
        "\n",
        "```python\n",
        "# Código clave (ejemplo):\n",
        "df['OnlineSecurity'] = df['OnlineSecurity'].replace('No internet service', 'No')\n",
        "```\n",
        "\n",
        "---\n",
        "\n",
        "#### **📉 2. FACTORES CLAVE DE CHURN**  \n",
        "**Top 5 variables predictivas**:  \n",
        "\n",
        "| Variable                     | Importancia | Relación con Churn                          |\n",
        "|------------------------------|-------------|---------------------------------------------|\n",
        "| `cliente_Permanencia`         | 45%         | ↓ 70% cancelaciones en primeros 6 meses     |\n",
        "| `cuenta_Contrato_Mensual`     | 30%         | 3× más riesgo vs contratos anuales          |\n",
        "| `cuenta_CuentaTotal`          | 15%         | Gasto <$50 → 60% más probabilidad de churn  |\n",
        "| `cuenta_MetodoPago_Electronic`| 7%          | 25% más cancelaciones vs pagos automáticos  |\n",
        "| `OnlineSecurity_No`           | 3%          | Clientes sin seguridad cancelan 20% más     |\n",
        "\n",
        "**🔎 Insights**:  \n",
        "- Modelo Random Forest logró **F1-Score: 0.84** (mejor que Árbol de Decisión: 0.78)  \n",
        "- Variables temporales y de contrato explican **75% del riesgo de churn**  \n",
        "\n",
        "---\n",
        "\n",
        "#### **🛡️ 3. ESTRATEGIAS DE RETENCIÓN**  \n",
        "\n",
        "**🎯 Segmentación y Acciones**:  \n",
        "\n",
        "| Segmento                  | Estrategia                          | Métrica Objetivo         |\n",
        "|---------------------------|-------------------------------------|--------------------------|\n",
        "| **Clientes nuevos (<6m)** | Programa \"Primeros 6 Meses Seguros\":<br>- 20% descuento mes 2<br>- Onboarding personalizado | ↓ 40% churn temprano     |\n",
        "| **Contrato mensual**      | Oferta anual:<br>- 2 meses gratis<br>- Precio congelado 1 año       | ↑ 30% conversión a anual |\n",
        "| **Gasto bajo (<$50)**     | Paquete \"Básico Plus\":<br>- 1 servicio adicional gratis             | ↑ 25% gasto promedio     |\n",
        "\n",
        "**📌 Implementación**:  \n",
        "```python\n",
        "# Ejemplo: Filtro clientes objetivo\n",
        "clientes_riesgo = df[(df['cliente_Permanencia'] < 6) & (df['cuenta_Contrato'] == 'Monthly')]\n",
        "```\n",
        "\n",
        "---\n",
        "\n",
        "#### **📌 4. CONCLUSIONES**  \n",
        "1. **Trazabilidad**: Procesamiento en `Challenge1` y `Challenge2` garantiza datos consistentes.  \n",
        "2. **Accionabilidad**: Estrategias enfocadas en:  \n",
        "   - **Clientes nuevos** (ventana crítica)  \n",
        "   - **Contratos mensuales** (mayor riesgo)  \n",
        "3. **Monitoreo**: Métricas clave a seguir:  \n",
        "   - Tasa de churn mensual  \n",
        "   - % clientes en contratos anuales  \n",
        "   - Gasto promedio por segmento  \n",
        "\n",
        "---\n",
        "\n",
        "---"
      ],
      "metadata": {
        "id": "ii93-c0FC2pL"
      }
    }
  ]
}